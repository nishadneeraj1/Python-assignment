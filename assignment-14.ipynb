{
 "cells": [
  {
   "cell_type": "markdown",
   "id": "36747929",
   "metadata": {},
   "source": [
    "1.What does RGBA stand for?\n",
    "\n",
    "Answer :"
   ]
  },
  {
   "cell_type": "markdown",
   "id": "f96d7928",
   "metadata": {},
   "source": [
    "An RGBA value is a tuple of 4 integers, each ranging from 0 to 255. The four integers correspond to the amount of red, green, blue, and alpha (transparency) in the color."
   ]
  },
  {
   "cell_type": "markdown",
   "id": "1f0b9873",
   "metadata": {},
   "source": [
    "2.From the Pillow module, how do you get the RGBA value of any images?\n",
    "\n",
    "Answer :"
   ]
  },
  {
   "cell_type": "markdown",
   "id": "58f8944a",
   "metadata": {},
   "source": [
    "A function call to ImageColor.getcolor('CornflowerBlue', 'RGBA') will return (100, 149, 237, 255), the RGBA value for that color."
   ]
  },
  {
   "cell_type": "markdown",
   "id": "d31dadaa",
   "metadata": {},
   "source": [
    "3.What is a box tuple, and how does it work?\n",
    "\n",
    "Answer :"
   ]
  },
  {
   "cell_type": "markdown",
   "id": "555742f2",
   "metadata": {},
   "source": [
    "A box tuple is a tuple value of four integers: the left edge x-coordinate, the top edge y-coordinate, the width, and the height, respectively."
   ]
  },
  {
   "cell_type": "markdown",
   "id": "fb1da220",
   "metadata": {},
   "source": [
    "4.Use your image and load in notebook then, How can you find out the width and height of an\n",
    "Image object?\n",
    "\n",
    "Answer :"
   ]
  },
  {
   "cell_type": "markdown",
   "id": "82625d87",
   "metadata": {},
   "source": [
    "Image.open('zophie.png')"
   ]
  },
  {
   "cell_type": "markdown",
   "id": "c7a9ecb9",
   "metadata": {},
   "source": [
    "5.What method would you call to get Image object for a 100×100 image, excluding the lower-left\n",
    "quarter of it?\n",
    "\n",
    "Answer :"
   ]
  },
  {
   "cell_type": "markdown",
   "id": "99fcf377",
   "metadata": {},
   "source": [
    "imageObj.size is a tuple of two integers, the width and the height."
   ]
  },
  {
   "cell_type": "markdown",
   "id": "9e02cdbb",
   "metadata": {},
   "source": [
    "6.After making changes to an Image object, how could you save it as an image file?\n",
    "\n",
    "Answer :"
   ]
  },
  {
   "cell_type": "markdown",
   "id": "06ca0d48",
   "metadata": {},
   "source": [
    "imageObj.crop((0, 50, 50, 50)). Notice that you are passing a box tuple to crop(), not four separate integer arguments."
   ]
  },
  {
   "cell_type": "markdown",
   "id": "85e29657",
   "metadata": {},
   "source": [
    "7.What module contains Pillow’s shape-drawing code?\n",
    "\n",
    "Answer :"
   ]
  },
  {
   "cell_type": "markdown",
   "id": "13a47cf8",
   "metadata": {},
   "source": [
    "Call the imageObj.save('new_filename.png') method of the Image object.8. Image objects do not have drawing methods."
   ]
  },
  {
   "cell_type": "markdown",
   "id": "c1c16a13",
   "metadata": {},
   "source": [
    "8.What kind of object does? How do you get this kind\n",
    "of object?\n",
    "\n",
    "Answer :"
   ]
  },
  {
   "cell_type": "markdown",
   "id": "db60ccb9",
   "metadata": {},
   "source": [
    "The ImageDraw module contains code to draw on images."
   ]
  }
 ],
 "metadata": {
  "kernelspec": {
   "display_name": "Python 3 (ipykernel)",
   "language": "python",
   "name": "python3"
  },
  "language_info": {
   "codemirror_mode": {
    "name": "ipython",
    "version": 3
   },
   "file_extension": ".py",
   "mimetype": "text/x-python",
   "name": "python",
   "nbconvert_exporter": "python",
   "pygments_lexer": "ipython3",
   "version": "3.9.12"
  }
 },
 "nbformat": 4,
 "nbformat_minor": 5
}
