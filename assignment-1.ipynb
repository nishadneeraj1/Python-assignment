{
 "cells": [
  {
   "cell_type": "markdown",
   "id": "33ba7906",
   "metadata": {},
   "source": [
    "1.In the below elements which of them are values or an expression? eg:- values can be\n",
    "integer or string and expressions will be mathematical operators.\n",
    "\n",
    "*\n",
    "'hello'  -87.8  -  /  +  6 "
   ]
  },
  {
   "cell_type": "markdown",
   "id": "44258b8e",
   "metadata": {},
   "source": [
    "#Answer\n",
    "\n",
    "*,-,/,+ are expressions.\n",
    "\n",
    "'hellow',-87.8,6 are values."
   ]
  },
  {
   "cell_type": "markdown",
   "id": "deec016f",
   "metadata": {},
   "source": [
    "2.What is the difference between string and variable?"
   ]
  },
  {
   "cell_type": "markdown",
   "id": "6d1cd5e1",
   "metadata": {},
   "source": [
    "#Answer\n",
    "\n",
    "String is variable which is sequence of characters but variable is a container that stores data."
   ]
  },
  {
   "cell_type": "markdown",
   "id": "21ce530a",
   "metadata": {},
   "source": [
    "3.Describe three different data types."
   ]
  },
  {
   "cell_type": "markdown",
   "id": "c125e3e6",
   "metadata": {},
   "source": [
    "#Answer\n",
    "\n",
    "(1)Numeric\n",
    "\n",
    "       (I)int - This values is represented by int class and it contains positive and negative integer values.example- 2,4,5\n",
    "       (II)float - This value is represented by float class and it contains decimal numbers.example- 2.5,5.6,9.0\n",
    "       (III)complex number - This value is represented by complex class and it contains.example- 5+4i,1+2i,7+5j\n",
    "        \n",
    "(2)Sequence\n",
    "    \n",
    "       (I)string - String are arrays of bytes representing unicode character.It is a sequence of character.example -\n",
    "        'neeraj'\n",
    "       (II)list - It is a ordered collection of data that stores all types of data and we represents as [].It is mutable.\n",
    "       (III)tuple -It is a ordered collection of data that stores all types of data and we represents as ().It is immutable.\n",
    "        \n",
    "(3)Boolean\n",
    "       \n",
    "         It has two in-built values, True and false.The boolean object that are equal to True is true and\n",
    "         the boolean object that are equal to False is false. \n",
    "         \n",
    "         "
   ]
  },
  {
   "cell_type": "markdown",
   "id": "db056d8d",
   "metadata": {},
   "source": [
    "4. What is an expression made up of? What do all expressions do?\n",
    "  \n"
   ]
  },
  {
   "cell_type": "markdown",
   "id": "dd7169b4",
   "metadata": {},
   "source": [
    "#Answer\n",
    "\n",
    "An expression is combination of operator and operands.The expression is evaluated to produce some other value and is           evaluated as per precedence of operator."
   ]
  },
  {
   "cell_type": "markdown",
   "id": "d9ac7220",
   "metadata": {},
   "source": [
    "5.This assignment statements, like spam = 10. What is the difference between an expression and a statement?"
   ]
  },
  {
   "cell_type": "markdown",
   "id": "98a60d4c",
   "metadata": {},
   "source": [
    "#Answer\n",
    "\n",
    "An expression is combination of operator and operands which evaluated to produce some other value but\n",
    "any instruction that a python interpreter can execute is called statement.for example a+15 is expression but print(a)\n",
    "is statement."
   ]
  },
  {
   "cell_type": "markdown",
   "id": "435dc50a",
   "metadata": {},
   "source": [
    "6.After running the following code, what does the variable bacon contain?\n",
    "   bacon = 22\n",
    "   bacon + 1"
   ]
  },
  {
   "cell_type": "code",
   "execution_count": 4,
   "id": "6f86a9df",
   "metadata": {},
   "outputs": [
    {
     "data": {
      "text/plain": [
       "23"
      ]
     },
     "execution_count": 4,
     "metadata": {},
     "output_type": "execute_result"
    }
   ],
   "source": [
    "#Answer\n",
    "bacon = 22\n",
    "bacon + 1"
   ]
  },
  {
   "cell_type": "markdown",
   "id": "77f1052c",
   "metadata": {},
   "source": [
    "7.What should the values of the following two terms be?\n",
    "'spam' + 'spamspam'\n",
    "'spam' * 3"
   ]
  },
  {
   "cell_type": "code",
   "execution_count": 8,
   "id": "b6a09bf4",
   "metadata": {},
   "outputs": [
    {
     "data": {
      "text/plain": [
       "'spamspamspam'"
      ]
     },
     "execution_count": 8,
     "metadata": {},
     "output_type": "execute_result"
    }
   ],
   "source": [
    "#Answer\n",
    "'spam' + 'spamspam'"
   ]
  },
  {
   "cell_type": "code",
   "execution_count": 9,
   "id": "6a4e51b7",
   "metadata": {},
   "outputs": [
    {
     "data": {
      "text/plain": [
       "'spamspamspam'"
      ]
     },
     "execution_count": 9,
     "metadata": {},
     "output_type": "execute_result"
    }
   ],
   "source": [
    "'spam' * 3"
   ]
  },
  {
   "cell_type": "markdown",
   "id": "3979a5eb",
   "metadata": {},
   "source": [
    "8.Why is eggs a valid variable name while 100 is invalid?"
   ]
  },
  {
   "cell_type": "markdown",
   "id": "15d8e41b",
   "metadata": {},
   "source": [
    "#Answer\n",
    "\n",
    "In Python programming language as per naming rule of variables, it should be starts with alphabets or underscore (_)\n",
    "so 'eggs' is a valid variable but 100 is invalid. "
   ]
  },
  {
   "cell_type": "markdown",
   "id": "255490bf",
   "metadata": {},
   "source": [
    "9.What three functions can be used to get the integer, floating-point number, or string\n",
    "version of a value?"
   ]
  },
  {
   "cell_type": "markdown",
   "id": "d6001915",
   "metadata": {},
   "source": [
    "#Answer\n",
    "\n",
    "int(), float(), string() functions can be used to get integer, floating-point number and string version of a value respectively. "
   ]
  },
  {
   "cell_type": "markdown",
   "id": "fb7980b7",
   "metadata": {},
   "source": [
    "10.Why does this expression cause an error? How can you fix it?\n",
    "\n",
    "     'I have eaten ' + 99 + ' burritos.'"
   ]
  },
  {
   "cell_type": "markdown",
   "id": "06e9ba23",
   "metadata": {},
   "source": [
    "#answer\n",
    "\n",
    "Here the first and last data is string type and we are concatinating them with a int data type and by coverting 99 into a string by using str() function.."
   ]
  },
  {
   "cell_type": "code",
   "execution_count": 24,
   "id": "36702643",
   "metadata": {},
   "outputs": [
    {
     "data": {
      "text/plain": [
       "'I have eaten 99 burritos'"
      ]
     },
     "execution_count": 24,
     "metadata": {},
     "output_type": "execute_result"
    }
   ],
   "source": [
    "'I have eaten ' + str(99) + ' burritos'"
   ]
  },
  {
   "cell_type": "code",
   "execution_count": null,
   "id": "48ff4595",
   "metadata": {},
   "outputs": [],
   "source": []
  }
 ],
 "metadata": {
  "kernelspec": {
   "display_name": "Python 3 (ipykernel)",
   "language": "python",
   "name": "python3"
  },
  "language_info": {
   "codemirror_mode": {
    "name": "ipython",
    "version": 3
   },
   "file_extension": ".py",
   "mimetype": "text/x-python",
   "name": "python",
   "nbconvert_exporter": "python",
   "pygments_lexer": "ipython3",
   "version": "3.9.12"
  }
 },
 "nbformat": 4,
 "nbformat_minor": 5
}
