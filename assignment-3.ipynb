{
 "cells": [
  {
   "cell_type": "markdown",
   "id": "d490f477",
   "metadata": {},
   "source": [
    "1.Why are functions advantageous to have in your programs?"
   ]
  },
  {
   "cell_type": "markdown",
   "id": "f559f39b",
   "metadata": {},
   "source": [
    "Answer : functions give functionality of code reusability which means we can use code multiple times and wherever we want and also it makes program shorter, easy to read."
   ]
  },
  {
   "cell_type": "markdown",
   "id": "03dda091",
   "metadata": {},
   "source": [
    "2.When does the code in a function run: when it's specified or when it's called?"
   ]
  },
  {
   "cell_type": "markdown",
   "id": "a9fd81cc",
   "metadata": {},
   "source": [
    "Anser : When we call the function then the code in a function run."
   ]
  },
  {
   "cell_type": "markdown",
   "id": "d0993c68",
   "metadata": {},
   "source": [
    "3.What statement creates a function?"
   ]
  },
  {
   "cell_type": "markdown",
   "id": "50b9ceb7",
   "metadata": {},
   "source": [
    "To create a function, first we have to declare it by using def keyword and then write function identifier(name) followed by paranthesis and colon."
   ]
  },
  {
   "cell_type": "markdown",
   "id": "476fca88",
   "metadata": {},
   "source": [
    "4.What is the difference between a function and a function call?"
   ]
  },
  {
   "cell_type": "markdown",
   "id": "b4dcf148",
   "metadata": {},
   "source": [
    "Answer : Function is a block of code defined with def keyword followed by paranthesis and colon while to execute the function we use function call by using identifier name followed by paranthesis."
   ]
  },
  {
   "cell_type": "markdown",
   "id": "daa1a6ba",
   "metadata": {},
   "source": [
    "5.How many global scopes are there in a Python program? How many local scopes?"
   ]
  },
  {
   "cell_type": "markdown",
   "id": "51d30210",
   "metadata": {},
   "source": [
    "Answer : There is one global scope in a python program and local scope is created whenever the function is called."
   ]
  },
  {
   "cell_type": "markdown",
   "id": "110c1176",
   "metadata": {},
   "source": [
    "6.What happens to variables in a local scope when the function call returns?"
   ]
  },
  {
   "cell_type": "markdown",
   "id": "9ca3d7ed",
   "metadata": {},
   "source": [
    "Answer : When the function call returns, the local variables are destroyed."
   ]
  },
  {
   "cell_type": "markdown",
   "id": "a8f3c458",
   "metadata": {},
   "source": [
    "7.What is the concept of a return value? Is it possible to have a return value in an expression?"
   ]
  },
  {
   "cell_type": "markdown",
   "id": "8ecb0cd2",
   "metadata": {},
   "source": [
    "Answer : A return value is that a function returns to the calling function when it completes its tasks. Like any value can be part of return value in an expression."
   ]
  },
  {
   "cell_type": "markdown",
   "id": "2b3561d6",
   "metadata": {},
   "source": [
    "8.If a function does not have a return statement, what is the return value of a call to that function?"
   ]
  },
  {
   "cell_type": "markdown",
   "id": "8905510b",
   "metadata": {},
   "source": [
    "Answer : If a function does not have a return statement, its return value is none."
   ]
  },
  {
   "cell_type": "markdown",
   "id": "a11436c9",
   "metadata": {},
   "source": [
    "9.How do you make a function variable refer to the global variable?"
   ]
  },
  {
   "cell_type": "markdown",
   "id": "861f197a",
   "metadata": {},
   "source": [
    "Answer : By using a global keyword will force a function variable to refer to the global variable."
   ]
  },
  {
   "cell_type": "markdown",
   "id": "5f9aa0c5",
   "metadata": {},
   "source": [
    "10.What is the data type of None?"
   ]
  },
  {
   "cell_type": "markdown",
   "id": "7056456f",
   "metadata": {},
   "source": [
    "Answer : The data type of none is NoneType"
   ]
  },
  {
   "cell_type": "markdown",
   "id": "b04678a6",
   "metadata": {},
   "source": [
    "11.What does the sentence import areallyourpetsnamederic do?"
   ]
  },
  {
   "cell_type": "markdown",
   "id": "bdb7970a",
   "metadata": {},
   "source": [
    "Answer : The import statement will import module named areallyourpetsnamederic."
   ]
  },
  {
   "cell_type": "markdown",
   "id": "d8e168f8",
   "metadata": {},
   "source": [
    "12.If you had a bacon() feature in a spam module, what would you call it after importing spam?"
   ]
  },
  {
   "cell_type": "markdown",
   "id": "718e079d",
   "metadata": {},
   "source": [
    "Answer : spam.bacon()"
   ]
  },
  {
   "cell_type": "markdown",
   "id": "d5f97e73",
   "metadata": {},
   "source": [
    "13.What can you do to save a programme from crashing if it encounters an error?"
   ]
  },
  {
   "cell_type": "markdown",
   "id": "8bf0f3ee",
   "metadata": {},
   "source": [
    "Answer : Put that code into try clause."
   ]
  },
  {
   "cell_type": "markdown",
   "id": "c255a9f3",
   "metadata": {},
   "source": [
    "14.What is the purpose of the try clause? What is the purpose of the except clause?"
   ]
  },
  {
   "cell_type": "markdown",
   "id": "97217e6e",
   "metadata": {},
   "source": [
    "Answer : The code which can have an error will goes inside try cluase. And the code that executes if an error occured goes inside the except clause."
   ]
  }
 ],
 "metadata": {
  "kernelspec": {
   "display_name": "Python 3 (ipykernel)",
   "language": "python",
   "name": "python3"
  },
  "language_info": {
   "codemirror_mode": {
    "name": "ipython",
    "version": 3
   },
   "file_extension": ".py",
   "mimetype": "text/x-python",
   "name": "python",
   "nbconvert_exporter": "python",
   "pygments_lexer": "ipython3",
   "version": "3.9.12"
  }
 },
 "nbformat": 4,
 "nbformat_minor": 5
}
