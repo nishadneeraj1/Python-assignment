{
 "cells": [
  {
   "cell_type": "markdown",
   "id": "4695ff9e",
   "metadata": {},
   "source": [
    "1.Write a Python program to convert kilometers to miles?\n",
    "\n",
    "Answer :"
   ]
  },
  {
   "cell_type": "code",
   "execution_count": 4,
   "id": "1b0a3238",
   "metadata": {},
   "outputs": [
    {
     "name": "stdout",
     "output_type": "stream",
     "text": [
      "Enter weight in km: 1\n",
      "1.0 km in miles 0.621371\n"
     ]
    }
   ],
   "source": [
    "weight=float(input(\"Enter weight in km: \"))\n",
    "km=weight*0.621371\n",
    "print(f'{weight} km in miles {km}')"
   ]
  },
  {
   "cell_type": "markdown",
   "id": "eb28e685",
   "metadata": {},
   "source": [
    "2.Write a Python program to convert Celsius to Fahrenheit?\n",
    "\n",
    "Answer :"
   ]
  },
  {
   "cell_type": "code",
   "execution_count": 6,
   "id": "346f9b1a",
   "metadata": {},
   "outputs": [
    {
     "name": "stdout",
     "output_type": "stream",
     "text": [
      "Enter temperature in degree Celsius: 0\n",
      "0.0 degree Celsius in Fahrenheit:32.0\n"
     ]
    }
   ],
   "source": [
    "c=float(input(\"Enter temperature in degree Celsius: \"))\n",
    "f=(c*1.8)+32\n",
    "print(f'{c} degree Celsius in Fahrenheit:{f}')"
   ]
  },
  {
   "cell_type": "markdown",
   "id": "a70722f3",
   "metadata": {},
   "source": [
    "3.Write a Python program to display calendar?\n",
    "\n",
    "Answer :"
   ]
  },
  {
   "cell_type": "code",
   "execution_count": 7,
   "id": "bbbc7cea",
   "metadata": {},
   "outputs": [
    {
     "name": "stdout",
     "output_type": "stream",
     "text": [
      "Enter Year: 2022\n",
      "Enter month: 12\n",
      "   December 2022\n",
      "Mo Tu We Th Fr Sa Su\n",
      "          1  2  3  4\n",
      " 5  6  7  8  9 10 11\n",
      "12 13 14 15 16 17 18\n",
      "19 20 21 22 23 24 25\n",
      "26 27 28 29 30 31\n",
      "\n"
     ]
    }
   ],
   "source": [
    "import calendar\n",
    "year=int(input(\"Enter Year: \"))\n",
    "month=int(input(\"Enter month: \"))\n",
    "\n",
    "print(calendar.month(year,month))"
   ]
  },
  {
   "cell_type": "markdown",
   "id": "d9f13f16",
   "metadata": {},
   "source": [
    "4.Write a Python program to solve quadratic equation.\n",
    "\n",
    "Answer :"
   ]
  },
  {
   "cell_type": "code",
   "execution_count": 4,
   "id": "05ab62e6",
   "metadata": {},
   "outputs": [
    {
     "name": "stdout",
     "output_type": "stream",
     "text": [
      "Enter value of a: 2\n",
      "Enter value of b: 5\n",
      "Enter value of c: 6\n",
      "Complex roots.\n",
      "-5.0 + -5.75 i\n",
      "-5.0 - -5.75 i\n"
     ]
    }
   ],
   "source": [
    "import math\n",
    "a=int(input(\"Enter value of a: \"))\n",
    "b=int(input(\"Enter value of b: \"))\n",
    "c=int(input(\"Enter value of c: \"))\n",
    "d=b*b-4*a*c\n",
    "sqr=math.sqrt(abs(d))\n",
    "if d>0:\n",
    "    print(\"Real and different roots.\")\n",
    "    print((-b+d)/(2*a))\n",
    "    print((-b-d)/(2*a))\n",
    "elif d==0:\n",
    "    print(\"Real and same root.\")\n",
    "    print(-b/(2*a))\n",
    "else:\n",
    "    print(\"Complex roots.\")\n",
    "    print((-b/2*a),'+',d/(2*a),\"i\")\n",
    "    print((-b/2*a),'-',d/(2*a),'i')\n",
    "\n"
   ]
  },
  {
   "cell_type": "markdown",
   "id": "f5f001f6",
   "metadata": {},
   "source": [
    "5.Write a Python program to swap two variables without temp variable?\n",
    "\n",
    "Answer :"
   ]
  },
  {
   "cell_type": "code",
   "execution_count": 3,
   "id": "efc38e75",
   "metadata": {},
   "outputs": [
    {
     "name": "stdout",
     "output_type": "stream",
     "text": [
      "Enter first number: 1\n",
      "Enter second number: 2\n",
      "before swapping:  1 2\n",
      "after swapping:  2 1\n"
     ]
    }
   ],
   "source": [
    "a=int(input(\"Enter first number: \"))\n",
    "b=int(input(\"Enter second number: \"))\n",
    "print(\"before swapping: \",a,b)\n",
    "a,b=b,a\n",
    "print(\"after swapping: \",a,b)\n"
   ]
  }
 ],
 "metadata": {
  "kernelspec": {
   "display_name": "Python 3 (ipykernel)",
   "language": "python",
   "name": "python3"
  },
  "language_info": {
   "codemirror_mode": {
    "name": "ipython",
    "version": 3
   },
   "file_extension": ".py",
   "mimetype": "text/x-python",
   "name": "python",
   "nbconvert_exporter": "python",
   "pygments_lexer": "ipython3",
   "version": "3.9.12"
  }
 },
 "nbformat": 4,
 "nbformat_minor": 5
}
