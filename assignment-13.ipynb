{
 "cells": [
  {
   "cell_type": "markdown",
   "id": "3185e3ce",
   "metadata": {},
   "source": [
    "1.What advantages do Excel spreadsheets have over CSV spreadsheets?\n",
    "\n",
    "Answer :"
   ]
  },
  {
   "cell_type": "markdown",
   "id": "bda2a1ff",
   "metadata": {},
   "source": [
    "In Excel, spreadsheets can have values of data types other than strings; cells can have different fonts, sizes, or color settings; cells can have varying widths and heights; adjacent cells can be merged; and you can embed images and charts."
   ]
  },
  {
   "cell_type": "markdown",
   "id": "7e6f3b0c",
   "metadata": {},
   "source": [
    "2.What do you pass to csv.reader() and csv.writer() to create reader and writer objects?\n",
    "\n",
    "Answer :"
   ]
  },
  {
   "cell_type": "markdown",
   "id": "fb8c807e",
   "metadata": {},
   "source": [
    "You pass a File object, obtained from a call to open()."
   ]
  },
  {
   "cell_type": "markdown",
   "id": "6dde54b0",
   "metadata": {},
   "source": [
    "3.What modes do File objects for reader and writer objects need to be opened in?\n",
    "\n",
    "Answer :"
   ]
  },
  {
   "cell_type": "markdown",
   "id": "3816fdba",
   "metadata": {},
   "source": [
    "File objects need to be opened in read-binary ('rb') for Reader objects and write-binary ('wb') for Writer objects."
   ]
  },
  {
   "cell_type": "markdown",
   "id": "46d41f48",
   "metadata": {},
   "source": [
    "4.What method takes a list argument and writes it to a CSV file?\n",
    "\n",
    "Answer :"
   ]
  },
  {
   "cell_type": "markdown",
   "id": "f8a83cef",
   "metadata": {},
   "source": [
    "The writerow() method."
   ]
  },
  {
   "cell_type": "markdown",
   "id": "0ac58217",
   "metadata": {},
   "source": [
    "5.What do the keyword arguments delimiter and line terminator do?\n",
    "\n",
    "Answer :"
   ]
  },
  {
   "cell_type": "markdown",
   "id": "d29a609c",
   "metadata": {},
   "source": [
    "The delimiter argument changes the string used to separate cells in a row. The lineterminator argument changes the string used to separate rows."
   ]
  },
  {
   "cell_type": "markdown",
   "id": "a76512e7",
   "metadata": {},
   "source": [
    "6.What function takes a string of JSON data and returns a Python data structure?\n",
    "\n",
    "Answer :"
   ]
  },
  {
   "cell_type": "markdown",
   "id": "3bef5c76",
   "metadata": {},
   "source": [
    "json.loads()"
   ]
  },
  {
   "cell_type": "markdown",
   "id": "060174b3",
   "metadata": {},
   "source": [
    "7.What function takes a Python data structure and returns a string of JSON data?\n",
    "\n",
    "Answer :"
   ]
  },
  {
   "cell_type": "markdown",
   "id": "7b2197a8",
   "metadata": {},
   "source": [
    "json.dumps()"
   ]
  }
 ],
 "metadata": {
  "kernelspec": {
   "display_name": "Python 3 (ipykernel)",
   "language": "python",
   "name": "python3"
  },
  "language_info": {
   "codemirror_mode": {
    "name": "ipython",
    "version": 3
   },
   "file_extension": ".py",
   "mimetype": "text/x-python",
   "name": "python",
   "nbconvert_exporter": "python",
   "pygments_lexer": "ipython3",
   "version": "3.9.12"
  }
 },
 "nbformat": 4,
 "nbformat_minor": 5
}
