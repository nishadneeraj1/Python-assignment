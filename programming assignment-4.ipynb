{
 "cells": [
  {
   "cell_type": "markdown",
   "id": "37c19f7d",
   "metadata": {},
   "source": [
    "1.Write a Python Program to Find the Factorial of a Number?\n",
    "\n",
    "Answer :"
   ]
  },
  {
   "cell_type": "code",
   "execution_count": 4,
   "id": "7a54e0e3",
   "metadata": {},
   "outputs": [
    {
     "name": "stdout",
     "output_type": "stream",
     "text": [
      "Enter any postive integer: 5\n",
      "factorial of 5 is 120\n"
     ]
    }
   ],
   "source": [
    "factorial=1\n",
    "num=int(input(\"Enter any postive integer: \"))\n",
    "if num<0:\n",
    "    print(\"There is no factorial of negative number.\")\n",
    "elif num==0:\n",
    "    print(\"Factorial of 0 is 1.\")\n",
    "else:\n",
    "    for i in range(1,num+1):\n",
    "        factorial=factorial*i\n",
    "print(f\"factorial of {num} is {factorial}\")"
   ]
  },
  {
   "cell_type": "markdown",
   "id": "c846da20",
   "metadata": {},
   "source": [
    "2.Write a Python Program to Display the multiplication Table?\n",
    "\n",
    "Answer :"
   ]
  },
  {
   "cell_type": "code",
   "execution_count": 7,
   "id": "6d591d0c",
   "metadata": {},
   "outputs": [
    {
     "name": "stdout",
     "output_type": "stream",
     "text": [
      "Enter any positive integer: 5\n",
      "5 * 1 = 5\n",
      "5 * 2 = 10\n",
      "5 * 3 = 15\n",
      "5 * 4 = 20\n",
      "5 * 5 = 25\n",
      "5 * 6 = 30\n",
      "5 * 7 = 35\n",
      "5 * 8 = 40\n",
      "5 * 9 = 45\n",
      "5 * 10 = 50\n"
     ]
    }
   ],
   "source": [
    "num=int(input(\"Enter any positive integer: \"))\n",
    "for i in range(1,11):\n",
    "    print(num,\"*\",i,'=',num*i)"
   ]
  },
  {
   "cell_type": "markdown",
   "id": "3651f67e",
   "metadata": {},
   "source": [
    "3.Write a Python Program to Print the Fibonacci sequence?\n",
    "\n",
    "Answer :"
   ]
  },
  {
   "cell_type": "code",
   "execution_count": 3,
   "id": "d221fba5",
   "metadata": {},
   "outputs": [
    {
     "name": "stdout",
     "output_type": "stream",
     "text": [
      "0\n",
      "1\n",
      "1\n",
      "2\n",
      "3\n",
      "5\n",
      "8\n",
      "13\n"
     ]
    }
   ],
   "source": [
    "\n",
    "def fibonacci(n):\n",
    "    a=0\n",
    "    b=1\n",
    "    for i in range(n):\n",
    "        yield a\n",
    "        a,b=b,a+b\n",
    "for i in fibonacci(8):\n",
    "    print(i)\n"
   ]
  },
  {
   "cell_type": "markdown",
   "id": "a27480ef",
   "metadata": {},
   "source": [
    "4.Write a Python Program to Check Armstrong Number?\n",
    "\n",
    "Answer :"
   ]
  },
  {
   "cell_type": "code",
   "execution_count": 24,
   "id": "23bec1bc",
   "metadata": {},
   "outputs": [
    {
     "name": "stdout",
     "output_type": "stream",
     "text": [
      "Enter the lower limit: 153\n",
      "It is a Armstrong number.\n"
     ]
    }
   ],
   "source": [
    "n=int(input(\"Enter the lower limit: \"))\n",
    "order=len(str(n))\n",
    "sum=0\n",
    "temp=n\n",
    "while n>0:\n",
    "    digit=n%10\n",
    "    sum+=digit**order\n",
    "    n=n//10\n",
    "if sum==temp:\n",
    "    print(\"It is a Armstrong number.\")\n",
    "else:\n",
    "    print(\"It is not a Armstrong number.\")\n",
    "    "
   ]
  },
  {
   "cell_type": "markdown",
   "id": "c28b4452",
   "metadata": {},
   "source": [
    "5.Write a Python Program to Find Armstrong Number in an Interval?\n",
    "\n",
    "Answer :"
   ]
  },
  {
   "cell_type": "code",
   "execution_count": 22,
   "id": "d0de37f8",
   "metadata": {},
   "outputs": [
    {
     "name": "stdout",
     "output_type": "stream",
     "text": [
      "Enter the lower limit: 100\n",
      "Enter the upper limit: 1000\n",
      "153\n",
      "370\n",
      "371\n",
      "407\n"
     ]
    }
   ],
   "source": [
    "lower=int(input(\"Enter the lower limit: \"))\n",
    "upper=int(input(\"Enter the upper limit: \"))\n",
    "for n in range(lower,upper+1):\n",
    "    order=len(str(n))\n",
    "    sum=0\n",
    "    temp=n\n",
    "    while n>0:\n",
    "        digit=n%10\n",
    "        sum+=digit**order\n",
    "        n=n//10\n",
    "    if sum==temp:\n",
    "        print(sum)"
   ]
  },
  {
   "cell_type": "markdown",
   "id": "f26bf055",
   "metadata": {},
   "source": [
    "6.Write a Python Program to Find the Sum of Natural Numbers?\n",
    "\n",
    "Answer :"
   ]
  },
  {
   "cell_type": "code",
   "execution_count": 28,
   "id": "19ab645c",
   "metadata": {},
   "outputs": [
    {
     "name": "stdout",
     "output_type": "stream",
     "text": [
      "Enter the number: 10\n",
      "55\n"
     ]
    }
   ],
   "source": [
    "n=int(input(\"Enter the number: \"))\n",
    "sum=0\n",
    "for i in range(n+1):\n",
    "    sum+=i\n",
    "print(sum)"
   ]
  }
 ],
 "metadata": {
  "kernelspec": {
   "display_name": "Python 3 (ipykernel)",
   "language": "python",
   "name": "python3"
  },
  "language_info": {
   "codemirror_mode": {
    "name": "ipython",
    "version": 3
   },
   "file_extension": ".py",
   "mimetype": "text/x-python",
   "name": "python",
   "nbconvert_exporter": "python",
   "pygments_lexer": "ipython3",
   "version": "3.9.12"
  }
 },
 "nbformat": 4,
 "nbformat_minor": 5
}
