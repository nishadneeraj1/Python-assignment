{
 "cells": [
  {
   "cell_type": "markdown",
   "id": "dcebdbd0",
   "metadata": {},
   "source": [
    "1.What exactly is []?"
   ]
  },
  {
   "cell_type": "markdown",
   "id": "0a508e5d",
   "metadata": {},
   "source": [
    "Answer : It is denoted for empty list."
   ]
  },
  {
   "cell_type": "markdown",
   "id": "f242b742",
   "metadata": {},
   "source": [
    "2.In a list of values stored in a variable called spam, how would you assign the value 'hello' as the\n",
    "third value? (Assume [2, 4, 6, 8, 10] are in spam.)"
   ]
  },
  {
   "cell_type": "markdown",
   "id": "0b6b1255",
   "metadata": {},
   "source": [
    "Answer : spam[2]='hello'"
   ]
  },
  {
   "cell_type": "markdown",
   "id": "156a3948",
   "metadata": {},
   "source": [
    "Let's pretend the spam includes the list ['a', 'b', 'c', 'd'] for the next three queries."
   ]
  },
  {
   "cell_type": "markdown",
   "id": "25079061",
   "metadata": {},
   "source": [
    "3.What is the value of spam[int(int('3' * 2) / 11)]?\n",
    "\n",
    "Answer : "
   ]
  },
  {
   "cell_type": "code",
   "execution_count": 27,
   "id": "66be3140",
   "metadata": {},
   "outputs": [
    {
     "data": {
      "text/plain": [
       "'d'"
      ]
     },
     "execution_count": 27,
     "metadata": {},
     "output_type": "execute_result"
    }
   ],
   "source": [
    "spam=['a','b','hello','d']\n",
    "spam[int(int('3'*2)/11)]"
   ]
  },
  {
   "cell_type": "markdown",
   "id": "bfb5269a",
   "metadata": {},
   "source": [
    "4.What is the value of spam[-1]?\n",
    "\n",
    "Answer :"
   ]
  },
  {
   "cell_type": "code",
   "execution_count": 28,
   "id": "ce5259d5",
   "metadata": {},
   "outputs": [
    {
     "data": {
      "text/plain": [
       "'d'"
      ]
     },
     "execution_count": 28,
     "metadata": {},
     "output_type": "execute_result"
    }
   ],
   "source": [
    "spam[-1]"
   ]
  },
  {
   "cell_type": "markdown",
   "id": "ab9487ff",
   "metadata": {},
   "source": [
    "5.What is the value of spam[:2]?\n",
    "\n",
    "Answer :"
   ]
  },
  {
   "cell_type": "code",
   "execution_count": 29,
   "id": "84653ace",
   "metadata": {},
   "outputs": [
    {
     "data": {
      "text/plain": [
       "['a', 'b']"
      ]
     },
     "execution_count": 29,
     "metadata": {},
     "output_type": "execute_result"
    }
   ],
   "source": [
    "spam[:2]"
   ]
  },
  {
   "cell_type": "markdown",
   "id": "9af9977f",
   "metadata": {},
   "source": [
    "Let's pretend bacon has the list [3.14, 'cat,' 11, 'cat,' True] for the next three questions."
   ]
  },
  {
   "cell_type": "markdown",
   "id": "20f22e8d",
   "metadata": {},
   "source": [
    "6.What is the value of bacon.index('cat')?\n",
    "\n",
    "Answer :"
   ]
  },
  {
   "cell_type": "code",
   "execution_count": 30,
   "id": "0fc520d9",
   "metadata": {},
   "outputs": [
    {
     "data": {
      "text/plain": [
       "1"
      ]
     },
     "execution_count": 30,
     "metadata": {},
     "output_type": "execute_result"
    }
   ],
   "source": [
    "bacon=[3.14,'cat',11,'cat',True]\n",
    "bacon.index('cat')"
   ]
  },
  {
   "cell_type": "markdown",
   "id": "6e945e85",
   "metadata": {},
   "source": [
    "7.How does bacon.append(99) change the look of the list value in bacon?\n",
    "\n",
    "Answer :"
   ]
  },
  {
   "cell_type": "code",
   "execution_count": 31,
   "id": "c34175dc",
   "metadata": {},
   "outputs": [],
   "source": [
    "bacon.append(99)"
   ]
  },
  {
   "cell_type": "code",
   "execution_count": 32,
   "id": "ea484324",
   "metadata": {},
   "outputs": [
    {
     "data": {
      "text/plain": [
       "[3.14, 'cat', 11, 'cat', True, 99]"
      ]
     },
     "execution_count": 32,
     "metadata": {},
     "output_type": "execute_result"
    }
   ],
   "source": [
    "bacon"
   ]
  },
  {
   "cell_type": "markdown",
   "id": "50fc0bf2",
   "metadata": {},
   "source": [
    "8.How does bacon.remove('cat') change the look of the list in bacon?\n",
    "\n",
    "Answer : "
   ]
  },
  {
   "cell_type": "code",
   "execution_count": 33,
   "id": "844fa0e4",
   "metadata": {},
   "outputs": [],
   "source": [
    "bacon.remove('cat')"
   ]
  },
  {
   "cell_type": "code",
   "execution_count": 34,
   "id": "cb3b4fa5",
   "metadata": {},
   "outputs": [
    {
     "data": {
      "text/plain": [
       "[3.14, 11, 'cat', True, 99]"
      ]
     },
     "execution_count": 34,
     "metadata": {},
     "output_type": "execute_result"
    }
   ],
   "source": [
    "bacon"
   ]
  },
  {
   "cell_type": "markdown",
   "id": "ff057a98",
   "metadata": {},
   "source": [
    "9.What are the list concatenation and list replication operators?\n",
    "\n",
    "Answer :"
   ]
  },
  {
   "cell_type": "markdown",
   "id": "fd467d3d",
   "metadata": {},
   "source": [
    "'+' is a list concatenation operator and '*' is a list replication operator."
   ]
  },
  {
   "cell_type": "markdown",
   "id": "978088b9",
   "metadata": {},
   "source": [
    "10.What is difference between the list methods append() and insert()?\n",
    "\n",
    "Answer :"
   ]
  },
  {
   "cell_type": "markdown",
   "id": "6c8a010e",
   "metadata": {},
   "source": [
    "append() will add elements only to the end of the list while insert() will add elements anywhere in the list. "
   ]
  },
  {
   "cell_type": "markdown",
   "id": "c17e793e",
   "metadata": {},
   "source": [
    "11.What are the two methods for removing items from a list?\n",
    "\n",
    "Answer :"
   ]
  },
  {
   "cell_type": "markdown",
   "id": "ac4392f5",
   "metadata": {},
   "source": [
    "del statement and remove() are the two methods for removing items from a list."
   ]
  },
  {
   "cell_type": "markdown",
   "id": "cce45732",
   "metadata": {},
   "source": [
    "12.Describe how list values and string values are identical.\n",
    "\n",
    "Answer :"
   ]
  },
  {
   "cell_type": "markdown",
   "id": "5501c8e1",
   "metadata": {},
   "source": [
    "Both lists and strings can be passed to len(), have indexes and slices, be used in for loops, be concatenated or replicated, and be used with the in and not in operators."
   ]
  },
  {
   "cell_type": "markdown",
   "id": "e37614a9",
   "metadata": {},
   "source": [
    "13.What's the difference between tuples and lists?\n",
    "\n",
    "Answer :"
   ]
  },
  {
   "cell_type": "markdown",
   "id": "4bc94eec",
   "metadata": {},
   "source": [
    "Tuples are immutable, they cannot changed and we use () for tuples while lists are mutable, they can added, remove or changed and we use [] for lists."
   ]
  },
  {
   "cell_type": "markdown",
   "id": "bce9b321",
   "metadata": {},
   "source": [
    "14.How do you type a tuple value that only contains the integer 42?\n",
    "\n",
    "Answer :"
   ]
  },
  {
   "cell_type": "markdown",
   "id": "31eeeae1",
   "metadata": {},
   "source": [
    "(42,)"
   ]
  },
  {
   "cell_type": "markdown",
   "id": "9bc1c53d",
   "metadata": {},
   "source": [
    "15.How do you get a list value's tuple form? How do you get a tuple value's list form?\n",
    "\n",
    "Answe :"
   ]
  },
  {
   "cell_type": "markdown",
   "id": "520b0c47",
   "metadata": {},
   "source": [
    "By using tuble() and list() we can get list value's tuple form and tuple value's list form. "
   ]
  },
  {
   "cell_type": "markdown",
   "id": "054aa5dc",
   "metadata": {},
   "source": [
    "16.Variables that \"contain\" list values are not necessarily lists themselves. Instead, what do they\n",
    "contain?\n",
    "\n",
    "\n",
    "Answer : "
   ]
  },
  {
   "cell_type": "markdown",
   "id": "c196fabb",
   "metadata": {},
   "source": [
    "They contain reference to the list value."
   ]
  },
  {
   "cell_type": "markdown",
   "id": "6c90dacc",
   "metadata": {},
   "source": [
    "17. How do you distinguish between copy.copy() and copy.deepcopy()?\n",
    "\n",
    "Answer :"
   ]
  },
  {
   "cell_type": "markdown",
   "id": "74ddb14a",
   "metadata": {},
   "source": [
    "The copy.copy() will do a shallow copy ofa list and copy.deepcopy() will duplicate any list inside a list."
   ]
  }
 ],
 "metadata": {
  "kernelspec": {
   "display_name": "Python 3 (ipykernel)",
   "language": "python",
   "name": "python3"
  },
  "language_info": {
   "codemirror_mode": {
    "name": "ipython",
    "version": 3
   },
   "file_extension": ".py",
   "mimetype": "text/x-python",
   "name": "python",
   "nbconvert_exporter": "python",
   "pygments_lexer": "ipython3",
   "version": "3.9.12"
  }
 },
 "nbformat": 4,
 "nbformat_minor": 5
}
