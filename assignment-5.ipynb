{
 "cells": [
  {
   "cell_type": "markdown",
   "id": "b3b56fe9",
   "metadata": {},
   "source": [
    "1.What does an empty dictionary's code look like?\n",
    "\n",
    "Answer :"
   ]
  },
  {
   "cell_type": "markdown",
   "id": "b525bf86",
   "metadata": {},
   "source": [
    "curly brackets {}"
   ]
  },
  {
   "cell_type": "markdown",
   "id": "2f565f68",
   "metadata": {},
   "source": [
    "2.What is the value of a dictionary value with the key 'foo' and the value 42?\n",
    "\n",
    "Answer :"
   ]
  },
  {
   "cell_type": "markdown",
   "id": "1d9491fa",
   "metadata": {},
   "source": [
    "{'foo':42}"
   ]
  },
  {
   "cell_type": "markdown",
   "id": "851bbfd9",
   "metadata": {},
   "source": [
    "3.What is the most significant distinction between a dictionary and a list?\n",
    "\n",
    "Answer :"
   ]
  },
  {
   "cell_type": "markdown",
   "id": "64e0c447",
   "metadata": {},
   "source": [
    "Stored items in dictionary are unordered while in list they are oredered."
   ]
  },
  {
   "cell_type": "markdown",
   "id": "dff91ba3",
   "metadata": {},
   "source": [
    "4.What happens if you try to access spam['foo'] if spam is {'bar': 100}?\n",
    "\n",
    "Answer :"
   ]
  },
  {
   "cell_type": "markdown",
   "id": "9dcde2c8",
   "metadata": {},
   "source": [
    "It will give a type error."
   ]
  },
  {
   "cell_type": "markdown",
   "id": "a2692398",
   "metadata": {},
   "source": [
    "5.If a dictionary is stored in spam, what is the difference between the expressions 'cat' in spam and\n",
    "'cat' in spam.keys()?\n",
    "\n",
    "Answer :"
   ]
  },
  {
   "cell_type": "markdown",
   "id": "324988f9",
   "metadata": {},
   "source": [
    "There is no difference. The in operator checks whether a value exists as a key in the dictionary."
   ]
  },
  {
   "cell_type": "markdown",
   "id": "974c677a",
   "metadata": {},
   "source": [
    "6.If a dictionary is stored in spam, what is the difference between the expressions 'cat' in spam and\n",
    "'cat' in spam.values()?\n",
    "\n",
    "answer :"
   ]
  },
  {
   "cell_type": "markdown",
   "id": "4b311c33",
   "metadata": {},
   "source": [
    "'cat' will checks whether there is a 'cat' key in dictionary while spam.values checks whether value 'cat' for one of the key in spam. "
   ]
  },
  {
   "cell_type": "markdown",
   "id": "9aa0d50f",
   "metadata": {},
   "source": [
    "7.What is a shortcut for the following code?\n",
    "\n",
    "if 'color' not in spam:\n",
    "\n",
    "spam['color'] = 'black'\n",
    "\n",
    "Answer :"
   ]
  },
  {
   "cell_type": "markdown",
   "id": "27b57066",
   "metadata": {},
   "source": [
    "spam.setdefault('color','black')"
   ]
  },
  {
   "cell_type": "markdown",
   "id": "956943f0",
   "metadata": {},
   "source": [
    "8.How do you \"pretty print\" dictionary values using which module and function?\n",
    "\n",
    "Answer :"
   ]
  },
  {
   "cell_type": "markdown",
   "id": "30f9cab2",
   "metadata": {},
   "source": [
    "pprint.pprint()"
   ]
  }
 ],
 "metadata": {
  "kernelspec": {
   "display_name": "Python 3 (ipykernel)",
   "language": "python",
   "name": "python3"
  },
  "language_info": {
   "codemirror_mode": {
    "name": "ipython",
    "version": 3
   },
   "file_extension": ".py",
   "mimetype": "text/x-python",
   "name": "python",
   "nbconvert_exporter": "python",
   "pygments_lexer": "ipython3",
   "version": "3.9.12"
  }
 },
 "nbformat": 4,
 "nbformat_minor": 5
}
