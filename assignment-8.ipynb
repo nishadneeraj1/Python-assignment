{
 "cells": [
  {
   "cell_type": "markdown",
   "id": "49936b0f",
   "metadata": {},
   "source": [
    "1.Is the Python Standard Library included with PyInputPlus?\n",
    "\n",
    "Answer :"
   ]
  },
  {
   "cell_type": "markdown",
   "id": "735a173f",
   "metadata": {},
   "source": [
    "PyInputPlus is not a part of Python Standarrd Library."
   ]
  },
  {
   "cell_type": "markdown",
   "id": "c32a3693",
   "metadata": {},
   "source": [
    "2.Why is PyInputPlus commonly imported with import pyinputplus as pypi?\n",
    "\n",
    "Answer :"
   ]
  },
  {
   "cell_type": "markdown",
   "id": "3a81ff25",
   "metadata": {},
   "source": [
    "PyInputPlus is not a part of Python Standarrd Library so we have to import pyinputplus as pypi."
   ]
  },
  {
   "cell_type": "markdown",
   "id": "d9279f85",
   "metadata": {},
   "source": [
    "3.How do you distinguish between inputInt() and inputFloat()?\n",
    "\n",
    "Answer :"
   ]
  },
  {
   "cell_type": "markdown",
   "id": "cb353b85",
   "metadata": {},
   "source": [
    "The inputInt() accepts an integer value while inputFloat() accepts floating point value."
   ]
  },
  {
   "cell_type": "markdown",
   "id": "ca6e5619",
   "metadata": {},
   "source": [
    "4.Using PyInputPlus, how do you ensure that the user enters a whole number between 0 and 99?\n",
    "\n",
    "Answer :"
   ]
  },
  {
   "cell_type": "markdown",
   "id": "9cef22c3",
   "metadata": {},
   "source": [
    "By using pyip. inputint(min=1, max=99)"
   ]
  },
  {
   "cell_type": "markdown",
   "id": "0498340c",
   "metadata": {},
   "source": [
    "5.What is transferred to the keyword arguments allowRegexes and blockRegexes?\n",
    "\n",
    "Answer :"
   ]
  },
  {
   "cell_type": "markdown",
   "id": "c13f6f33",
   "metadata": {},
   "source": [
    "keyword arguments take a list of regular expression strings to determine what the PyInputPlus function will accept or reject as valid input."
   ]
  },
  {
   "cell_type": "markdown",
   "id": "744473e7",
   "metadata": {},
   "source": [
    "6.If a blank input is entered three times, what does inputStr(limit=3) do?\n",
    "\n",
    "Answer :"
   ]
  },
  {
   "cell_type": "markdown",
   "id": "a673c5b3",
   "metadata": {},
   "source": [
    "The function will raise RetryLimitException."
   ]
  },
  {
   "cell_type": "markdown",
   "id": "c2e609aa",
   "metadata": {},
   "source": [
    "7.If blank input is entered three times, what does inputStr(limit=3, default=&#39;hello&#39;) do?\n",
    "                                                            \n",
    "Answer :"
   ]
  },
  {
   "cell_type": "markdown",
   "id": "e45fd3a1",
   "metadata": {},
   "source": [
    "Blank values are not allowed."
   ]
  }
 ],
 "metadata": {
  "kernelspec": {
   "display_name": "Python 3 (ipykernel)",
   "language": "python",
   "name": "python3"
  },
  "language_info": {
   "codemirror_mode": {
    "name": "ipython",
    "version": 3
   },
   "file_extension": ".py",
   "mimetype": "text/x-python",
   "name": "python",
   "nbconvert_exporter": "python",
   "pygments_lexer": "ipython3",
   "version": "3.9.12"
  }
 },
 "nbformat": 4,
 "nbformat_minor": 5
}
