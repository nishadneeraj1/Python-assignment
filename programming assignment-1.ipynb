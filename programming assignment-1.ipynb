{
 "cells": [
  {
   "cell_type": "markdown",
   "id": "7d0df71b",
   "metadata": {},
   "source": [
    "1.Write a Python program to print \"Hello Python\".\n",
    "\n",
    "Answer :"
   ]
  },
  {
   "cell_type": "code",
   "execution_count": 1,
   "id": "dcb34e68",
   "metadata": {},
   "outputs": [
    {
     "name": "stdout",
     "output_type": "stream",
     "text": [
      "Hello Python\n"
     ]
    }
   ],
   "source": [
    "print(\"Hello Python\")"
   ]
  },
  {
   "cell_type": "markdown",
   "id": "d7ce2251",
   "metadata": {},
   "source": [
    "2.Write a Python program to do arithmetical operations addition and division.\n",
    "\n",
    "Answer :"
   ]
  },
  {
   "cell_type": "code",
   "execution_count": 8,
   "id": "721793f4",
   "metadata": {},
   "outputs": [
    {
     "name": "stdout",
     "output_type": "stream",
     "text": [
      "Enter first integer: 4\n",
      "Enter second integer: 5\n",
      "Addition and division of 4 and 5 respectively are 9 and 0.8\n"
     ]
    }
   ],
   "source": [
    "num1=int(input(\"Enter first integer: \"))\n",
    "num2=int(input(\"Enter second integer: \"))\n",
    "add=num1+num2\n",
    "div=num1/num2\n",
    "print(f'Addition and division of {num1} and {num2} respectively are {add} and {div}')"
   ]
  },
  {
   "cell_type": "markdown",
   "id": "7eed6a78",
   "metadata": {},
   "source": [
    "3.Write a Python program to find the area of a triangle?\n",
    "\n",
    "Answer :"
   ]
  },
  {
   "cell_type": "code",
   "execution_count": 7,
   "id": "ac7a1225",
   "metadata": {},
   "outputs": [
    {
     "name": "stdout",
     "output_type": "stream",
     "text": [
      "Enter height of triangle: 2\n",
      "Enter base of triangle: 5\n",
      "Area of triangle :5.0\n"
     ]
    }
   ],
   "source": [
    "height=int(input(\"Enter height of triangle: \"))\n",
    "base=int(input(\"Enter base of triangle: \"))\n",
    "area_of_triangle=(height*base)/2\n",
    "print(f'Area of triangle :{area_of_triangle}')"
   ]
  },
  {
   "cell_type": "markdown",
   "id": "39be6d23",
   "metadata": {},
   "source": [
    "4.Write a Python program to swap two variables?\n",
    "\n",
    "Answer :"
   ]
  },
  {
   "cell_type": "code",
   "execution_count": 2,
   "id": "3feb2226",
   "metadata": {},
   "outputs": [
    {
     "name": "stdout",
     "output_type": "stream",
     "text": [
      "Enter first integer: 4\n",
      "Enter second integer: 5\n",
      "After swaping first and second integer respectively: 5 and 4\n"
     ]
    }
   ],
   "source": [
    "a=int(input(\"Enter first integer: \"))\n",
    "b=int(input(\"Enter second integer: \"))\n",
    "a,b=b,a\n",
    "print(f\"After swaping first and second integer respectively: {a} and {b}\")"
   ]
  },
  {
   "cell_type": "markdown",
   "id": "7965f44e",
   "metadata": {},
   "source": [
    "5.Write a Python program to generate a random number?\n",
    "\n",
    "Answer :"
   ]
  },
  {
   "cell_type": "code",
   "execution_count": 5,
   "id": "d1410349",
   "metadata": {},
   "outputs": [
    {
     "name": "stdout",
     "output_type": "stream",
     "text": [
      "Random number is 5\n"
     ]
    }
   ],
   "source": [
    "import random\n",
    "\n",
    "ran=random.randint(1,20)\n",
    "print(\"Random number is\",ran)"
   ]
  }
 ],
 "metadata": {
  "kernelspec": {
   "display_name": "Python 3 (ipykernel)",
   "language": "python",
   "name": "python3"
  },
  "language_info": {
   "codemirror_mode": {
    "name": "ipython",
    "version": 3
   },
   "file_extension": ".py",
   "mimetype": "text/x-python",
   "name": "python",
   "nbconvert_exporter": "python",
   "pygments_lexer": "ipython3",
   "version": "3.9.12"
  }
 },
 "nbformat": 4,
 "nbformat_minor": 5
}
